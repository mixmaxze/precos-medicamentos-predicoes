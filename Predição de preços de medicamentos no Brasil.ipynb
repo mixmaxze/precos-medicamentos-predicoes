{
 "cells": [
  {
   "cell_type": "markdown",
   "id": "d796f0a5",
   "metadata": {},
   "source": [
    "#### Importando as bibliotecas"
   ]
  },
  {
   "cell_type": "code",
   "execution_count": 1,
   "id": "2a6771ac",
   "metadata": {},
   "outputs": [],
   "source": [
    "import pandas as pd"
   ]
  },
  {
   "cell_type": "markdown",
   "id": "dffbc75e",
   "metadata": {},
   "source": [
    "#### Importando os dados"
   ]
  },
  {
   "cell_type": "code",
   "execution_count": 2,
   "id": "ef5e9287",
   "metadata": {
    "scrolled": true
   },
   "outputs": [
    {
     "name": "stderr",
     "output_type": "stream",
     "text": [
      "C:\\Users\\jose-\\AppData\\Local\\Temp\\ipykernel_12564\\1792964528.py:1: DtypeWarning: Columns (4) have mixed types. Specify dtype option on import or set low_memory=False.\n",
      "  df = pd.read_csv('./data/TA_PRECO_MEDICAMENTO.CSV', sep = ';', encoding='latin-1', on_bad_lines='skip')\n"
     ]
    }
   ],
   "source": [
    "df = pd.read_csv('./data/TA_PRECO_MEDICAMENTO.CSV', sep = ';', encoding='latin-1', on_bad_lines='skip')"
   ]
  },
  {
   "cell_type": "markdown",
   "id": "1055fca9",
   "metadata": {},
   "source": [
    "### Capturando as colunas importantes\n",
    "<b>Tipo de produto (status do produto)</b>: Indica qual se a venda do medicamento necessita de recita.<br>\n",
    "<b>Tarja</b>: indica qual se a venda do medicamento necessita de recita, sendo classificado em Tarja preta, Tarja vermelha ou Venda livre.<br>\n",
    "<b>PF 18% alc</b>: preço de fábrica.<br>\n",
    "<b>PMC 18% alc</b>: preço máximo ao consumidor (variável alvo).<br>\n",
    "<br>\n",
    "<b>Obs:</b> Foram escolhidos os PF e PMC com alíquota de 18% ao invés dos outros, pois este é o percentual aplicado na maioria dos estados brasileiros."
   ]
  },
  {
   "cell_type": "code",
   "execution_count": 3,
   "id": "54cdc594",
   "metadata": {},
   "outputs": [],
   "source": [
    "# Deixa os nomes das colunas em letras minúsculas\n",
    "df.rename(columns = {column:column.lower() for column in df.columns}, inplace = True)\n",
    "\n",
    "# Simplifica nomes das colunas\n",
    "df.rename(columns = {'tipo de produto (status do produto)': 'tipo_produto',\n",
    "                    'pf 18% alc': 'pf_18',\n",
    "                    'pmc 18% alc': 'pmc_18'}, inplace = True)\n",
    "\n",
    "df = df[['tipo_produto', 'tarja', 'pf_18','pmc_18']]"
   ]
  },
  {
   "cell_type": "code",
   "execution_count": 4,
   "id": "43618d97",
   "metadata": {},
   "outputs": [],
   "source": [
    "# Retira linhas com dados nulos\n",
    "\n",
    "df.dropna(inplace = True)"
   ]
  },
  {
   "cell_type": "code",
   "execution_count": 5,
   "id": "b446c3b1",
   "metadata": {},
   "outputs": [
    {
     "data": {
      "text/html": [
       "<div>\n",
       "<style scoped>\n",
       "    .dataframe tbody tr th:only-of-type {\n",
       "        vertical-align: middle;\n",
       "    }\n",
       "\n",
       "    .dataframe tbody tr th {\n",
       "        vertical-align: top;\n",
       "    }\n",
       "\n",
       "    .dataframe thead th {\n",
       "        text-align: right;\n",
       "    }\n",
       "</style>\n",
       "<table border=\"1\" class=\"dataframe\">\n",
       "  <thead>\n",
       "    <tr style=\"text-align: right;\">\n",
       "      <th></th>\n",
       "      <th>tipo_produto</th>\n",
       "      <th>tarja</th>\n",
       "      <th>pf_18</th>\n",
       "      <th>pmc_18</th>\n",
       "    </tr>\n",
       "  </thead>\n",
       "  <tbody>\n",
       "    <tr>\n",
       "      <th>0</th>\n",
       "      <td>Similar</td>\n",
       "      <td>Tarja Vermelha (**)</td>\n",
       "      <td>44</td>\n",
       "      <td>60,83</td>\n",
       "    </tr>\n",
       "    <tr>\n",
       "      <th>1</th>\n",
       "      <td>Similar</td>\n",
       "      <td>Tarja Preta (**)</td>\n",
       "      <td>6,15</td>\n",
       "      <td>8,5</td>\n",
       "    </tr>\n",
       "    <tr>\n",
       "      <th>2</th>\n",
       "      <td>-</td>\n",
       "      <td>Tarja Vermelha</td>\n",
       "      <td>130,95</td>\n",
       "      <td>181,03</td>\n",
       "    </tr>\n",
       "    <tr>\n",
       "      <th>3</th>\n",
       "      <td>Novo</td>\n",
       "      <td>Tarja Vermelha (**)</td>\n",
       "      <td>60,4</td>\n",
       "      <td>83,5</td>\n",
       "    </tr>\n",
       "    <tr>\n",
       "      <th>4</th>\n",
       "      <td>Novo</td>\n",
       "      <td>Tarja Vermelha (**)</td>\n",
       "      <td>60,4</td>\n",
       "      <td>83,5</td>\n",
       "    </tr>\n",
       "  </tbody>\n",
       "</table>\n",
       "</div>"
      ],
      "text/plain": [
       "  tipo_produto                tarja   pf_18  pmc_18\n",
       "0      Similar  Tarja Vermelha (**)      44   60,83\n",
       "1      Similar     Tarja Preta (**)    6,15     8,5\n",
       "2       -            Tarja Vermelha  130,95  181,03\n",
       "3         Novo  Tarja Vermelha (**)    60,4    83,5\n",
       "4         Novo  Tarja Vermelha (**)    60,4    83,5"
      ]
     },
     "execution_count": 5,
     "metadata": {},
     "output_type": "execute_result"
    }
   ],
   "source": [
    "df.head()"
   ]
  },
  {
   "cell_type": "markdown",
   "id": "07ec3fcd",
   "metadata": {},
   "source": [
    "### Consertando os dados\n",
    "Removeremos do dataset as linhas que não contém significado na coluna 'tipo_produto'.<br> \n",
    "\n",
    "Na coluna 'tarja' simplificaremos às tarjas vermelha, preta e livre.<br>\n",
    "\n",
    "Na coluna 'pf_18' e 'pmc_18' faremos a conversão para o tipo float.<br>"
   ]
  },
  {
   "cell_type": "code",
   "execution_count": 6,
   "id": "04647c46",
   "metadata": {},
   "outputs": [
    {
     "data": {
      "text/plain": [
       "Genérico        8069\n",
       "Similar         7885\n",
       "Novo            3835\n",
       "Específico      1435\n",
       "Biológico        822\n",
       "Fitoterápico     389\n",
       "Name: tipo_produto, dtype: int64"
      ]
     },
     "execution_count": 6,
     "metadata": {},
     "output_type": "execute_result"
    }
   ],
   "source": [
    "# Corrige dataset a partir da coluna 'tipo_produto'\n",
    "\n",
    "df = df[df['tipo_produto'].str.contains('-') == False]\n",
    "df['tipo_produto'].value_counts()"
   ]
  },
  {
   "cell_type": "code",
   "execution_count": 7,
   "id": "7e778213",
   "metadata": {},
   "outputs": [
    {
     "data": {
      "text/plain": [
       "Tarja vermelha    17765\n",
       "Sem tarja          3292\n",
       "Tarja preta        1378\n",
       "Name: tarja, dtype: int64"
      ]
     },
     "execution_count": 7,
     "metadata": {},
     "output_type": "execute_result"
    }
   ],
   "source": [
    "# Simplifica coluna 'tarja'\n",
    "\n",
    "def simplifica_tarja(tarja):\n",
    "    \n",
    "    if 'erm' in tarja:\n",
    "        return 'Tarja vermelha'\n",
    "    elif 'ret' in tarja:\n",
    "        return 'Tarja preta'\n",
    "    else:\n",
    "        return 'Sem tarja'\n",
    "    \n",
    "df['tarja'] = df['tarja'].apply(simplifica_tarja)\n",
    "df['tarja'].value_counts()"
   ]
  },
  {
   "cell_type": "code",
   "execution_count": 8,
   "id": "e40e088f",
   "metadata": {},
   "outputs": [],
   "source": [
    "# Converte PF e PMC para o tipo float\n",
    "\n",
    "def converte_float(preco):\n",
    "    \n",
    "    if ',' in preco:\n",
    "        preco = preco.replace(',', '.')\n",
    "    \n",
    "    preco = float(preco)\n",
    "    return preco\n",
    "\n",
    "df['pf_18'] = df['pf_18'].apply(converte_float)\n",
    "df['pmc_18'] = df['pmc_18'].apply(converte_float)"
   ]
  },
  {
   "cell_type": "code",
   "execution_count": 9,
   "id": "22f87aef",
   "metadata": {
    "scrolled": true
   },
   "outputs": [
    {
     "data": {
      "text/html": [
       "<div>\n",
       "<style scoped>\n",
       "    .dataframe tbody tr th:only-of-type {\n",
       "        vertical-align: middle;\n",
       "    }\n",
       "\n",
       "    .dataframe tbody tr th {\n",
       "        vertical-align: top;\n",
       "    }\n",
       "\n",
       "    .dataframe thead th {\n",
       "        text-align: right;\n",
       "    }\n",
       "</style>\n",
       "<table border=\"1\" class=\"dataframe\">\n",
       "  <thead>\n",
       "    <tr style=\"text-align: right;\">\n",
       "      <th></th>\n",
       "      <th>tipo_produto</th>\n",
       "      <th>tarja</th>\n",
       "      <th>pf_18</th>\n",
       "      <th>pmc_18</th>\n",
       "    </tr>\n",
       "  </thead>\n",
       "  <tbody>\n",
       "    <tr>\n",
       "      <th>20892</th>\n",
       "      <td>Específico</td>\n",
       "      <td>Tarja preta</td>\n",
       "      <td>38.11</td>\n",
       "      <td>52.68</td>\n",
       "    </tr>\n",
       "    <tr>\n",
       "      <th>18658</th>\n",
       "      <td>Genérico</td>\n",
       "      <td>Tarja vermelha</td>\n",
       "      <td>49.48</td>\n",
       "      <td>68.40</td>\n",
       "    </tr>\n",
       "    <tr>\n",
       "      <th>11115</th>\n",
       "      <td>Similar</td>\n",
       "      <td>Tarja vermelha</td>\n",
       "      <td>85.05</td>\n",
       "      <td>117.58</td>\n",
       "    </tr>\n",
       "    <tr>\n",
       "      <th>3699</th>\n",
       "      <td>Específico</td>\n",
       "      <td>Tarja preta</td>\n",
       "      <td>60.56</td>\n",
       "      <td>83.72</td>\n",
       "    </tr>\n",
       "    <tr>\n",
       "      <th>3930</th>\n",
       "      <td>Similar</td>\n",
       "      <td>Tarja vermelha</td>\n",
       "      <td>220.28</td>\n",
       "      <td>304.52</td>\n",
       "    </tr>\n",
       "  </tbody>\n",
       "</table>\n",
       "</div>"
      ],
      "text/plain": [
       "      tipo_produto           tarja   pf_18  pmc_18\n",
       "20892   Específico     Tarja preta   38.11   52.68\n",
       "18658     Genérico  Tarja vermelha   49.48   68.40\n",
       "11115      Similar  Tarja vermelha   85.05  117.58\n",
       "3699    Específico     Tarja preta   60.56   83.72\n",
       "3930       Similar  Tarja vermelha  220.28  304.52"
      ]
     },
     "execution_count": 9,
     "metadata": {},
     "output_type": "execute_result"
    }
   ],
   "source": [
    "# Visão do dataset consertado\n",
    "\n",
    "df.sample(5)"
   ]
  },
  {
   "cell_type": "code",
   "execution_count": null,
   "id": "54190fcc",
   "metadata": {},
   "outputs": [],
   "source": []
  }
 ],
 "metadata": {
  "kernelspec": {
   "display_name": "Python 3 (ipykernel)",
   "language": "python",
   "name": "python3"
  },
  "language_info": {
   "codemirror_mode": {
    "name": "ipython",
    "version": 3
   },
   "file_extension": ".py",
   "mimetype": "text/x-python",
   "name": "python",
   "nbconvert_exporter": "python",
   "pygments_lexer": "ipython3",
   "version": "3.9.13"
  }
 },
 "nbformat": 4,
 "nbformat_minor": 5
}
