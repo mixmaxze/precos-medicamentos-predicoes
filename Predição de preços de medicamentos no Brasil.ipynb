{
 "cells": [
  {
   "cell_type": "markdown",
   "id": "14a250c2",
   "metadata": {},
   "source": [
    "## Utilizando Regressão Linear para predizer o preço máximo ao consumidor dos medicamentos brasileiros"
   ]
  },
  {
   "cell_type": "markdown",
   "id": "d796f0a5",
   "metadata": {},
   "source": [
    "#### Importando as bibliotecas"
   ]
  },
  {
   "cell_type": "code",
   "execution_count": 39,
   "id": "2a6771ac",
   "metadata": {},
   "outputs": [],
   "source": [
    "import pandas as pd\n",
    "import numpy as np\n",
    "import sklearn\n",
    "\n",
    "from sklearn import linear_model\n",
    "from sklearn.model_selection import train_test_split\n",
    "from sklearn.metrics import mean_squared_error, mean_absolute_error, r2_score"
   ]
  },
  {
   "cell_type": "markdown",
   "id": "dffbc75e",
   "metadata": {},
   "source": [
    "#### Importando os dados"
   ]
  },
  {
   "cell_type": "code",
   "execution_count": 2,
   "id": "ef5e9287",
   "metadata": {
    "scrolled": true
   },
   "outputs": [
    {
     "name": "stderr",
     "output_type": "stream",
     "text": [
      "C:\\Users\\jose-\\AppData\\Local\\Temp\\ipykernel_8920\\1792964528.py:1: DtypeWarning: Columns (4) have mixed types. Specify dtype option on import or set low_memory=False.\n",
      "  df = pd.read_csv('./data/TA_PRECO_MEDICAMENTO.CSV', sep = ';', encoding='latin-1', on_bad_lines='skip')\n"
     ]
    }
   ],
   "source": [
    "df = pd.read_csv('./data/TA_PRECO_MEDICAMENTO.CSV', sep = ';', encoding='latin-1', on_bad_lines='skip')"
   ]
  },
  {
   "cell_type": "markdown",
   "id": "1055fca9",
   "metadata": {},
   "source": [
    "### Capturando as colunas importantes\n",
    "<b>Tipo de produto (status do produto)</b>: Indica qual se a venda do medicamento necessita de recita.<br>\n",
    "<b>Tarja</b>: indica se a venda do medicamento necessita de receita, sendo classificado em Tarja preta, Tarja vermelha ou Venda livre.<br>\n",
    "<b>PF 18% alc</b>: preço de fábrica.<br>\n",
    "<b>PMC 18% alc</b>: preço máximo ao consumidor (variável alvo).<br>\n",
    "<br>\n",
    "<b>Obs:</b> Foram escolhidos os PF e PMC com alíquota de 18%, ao invés das outra porcentagens, pois este é o percentual aplicado na maioria dos estados brasileiros."
   ]
  },
  {
   "cell_type": "code",
   "execution_count": 3,
   "id": "54cdc594",
   "metadata": {},
   "outputs": [],
   "source": [
    "# Deixa os nomes das colunas em letras minúsculas\n",
    "df.rename(columns = {column:column.lower() for column in df.columns}, inplace = True)\n",
    "\n",
    "# Simplifica nomes das colunas\n",
    "df.rename(columns = {'tipo de produto (status do produto)': 'tipo_produto',\n",
    "                    'pf 18% alc': 'pf_18',\n",
    "                    'pmc 18% alc': 'pmc_18'}, inplace = True)\n",
    "\n",
    "df = df[['tipo_produto', 'tarja', 'pf_18','pmc_18']]"
   ]
  },
  {
   "cell_type": "code",
   "execution_count": 4,
   "id": "43618d97",
   "metadata": {},
   "outputs": [],
   "source": [
    "# Retira linhas com dados nulos\n",
    "\n",
    "df.dropna(inplace = True)"
   ]
  },
  {
   "cell_type": "code",
   "execution_count": 5,
   "id": "b446c3b1",
   "metadata": {},
   "outputs": [
    {
     "data": {
      "text/html": [
       "<div>\n",
       "<style scoped>\n",
       "    .dataframe tbody tr th:only-of-type {\n",
       "        vertical-align: middle;\n",
       "    }\n",
       "\n",
       "    .dataframe tbody tr th {\n",
       "        vertical-align: top;\n",
       "    }\n",
       "\n",
       "    .dataframe thead th {\n",
       "        text-align: right;\n",
       "    }\n",
       "</style>\n",
       "<table border=\"1\" class=\"dataframe\">\n",
       "  <thead>\n",
       "    <tr style=\"text-align: right;\">\n",
       "      <th></th>\n",
       "      <th>tipo_produto</th>\n",
       "      <th>tarja</th>\n",
       "      <th>pf_18</th>\n",
       "      <th>pmc_18</th>\n",
       "    </tr>\n",
       "  </thead>\n",
       "  <tbody>\n",
       "    <tr>\n",
       "      <th>0</th>\n",
       "      <td>Similar</td>\n",
       "      <td>Tarja Vermelha (**)</td>\n",
       "      <td>44</td>\n",
       "      <td>60,83</td>\n",
       "    </tr>\n",
       "    <tr>\n",
       "      <th>1</th>\n",
       "      <td>Similar</td>\n",
       "      <td>Tarja Preta (**)</td>\n",
       "      <td>6,15</td>\n",
       "      <td>8,5</td>\n",
       "    </tr>\n",
       "    <tr>\n",
       "      <th>2</th>\n",
       "      <td>-</td>\n",
       "      <td>Tarja Vermelha</td>\n",
       "      <td>130,95</td>\n",
       "      <td>181,03</td>\n",
       "    </tr>\n",
       "    <tr>\n",
       "      <th>3</th>\n",
       "      <td>Novo</td>\n",
       "      <td>Tarja Vermelha (**)</td>\n",
       "      <td>60,4</td>\n",
       "      <td>83,5</td>\n",
       "    </tr>\n",
       "    <tr>\n",
       "      <th>4</th>\n",
       "      <td>Novo</td>\n",
       "      <td>Tarja Vermelha (**)</td>\n",
       "      <td>60,4</td>\n",
       "      <td>83,5</td>\n",
       "    </tr>\n",
       "  </tbody>\n",
       "</table>\n",
       "</div>"
      ],
      "text/plain": [
       "  tipo_produto                tarja   pf_18  pmc_18\n",
       "0      Similar  Tarja Vermelha (**)      44   60,83\n",
       "1      Similar     Tarja Preta (**)    6,15     8,5\n",
       "2       -            Tarja Vermelha  130,95  181,03\n",
       "3         Novo  Tarja Vermelha (**)    60,4    83,5\n",
       "4         Novo  Tarja Vermelha (**)    60,4    83,5"
      ]
     },
     "execution_count": 5,
     "metadata": {},
     "output_type": "execute_result"
    }
   ],
   "source": [
    "df.head()"
   ]
  },
  {
   "cell_type": "markdown",
   "id": "07ec3fcd",
   "metadata": {},
   "source": [
    "### Consertando os dados\n",
    "Removeremos do dataset as linhas que não contém significado na coluna 'tipo_produto'.<br> \n",
    "\n",
    "Na coluna 'tarja' reduziremos à tarjas vermelha, preta e livre.<br>\n",
    "\n",
    "Na coluna 'pf_18' e 'pmc_18' faremos a conversão do tipo string para o tipo float.<br>"
   ]
  },
  {
   "cell_type": "code",
   "execution_count": 6,
   "id": "04647c46",
   "metadata": {},
   "outputs": [
    {
     "data": {
      "text/plain": [
       "Genérico        8069\n",
       "Similar         7885\n",
       "Novo            3835\n",
       "Específico      1435\n",
       "Biológico        822\n",
       "Fitoterápico     389\n",
       "Name: tipo_produto, dtype: int64"
      ]
     },
     "execution_count": 6,
     "metadata": {},
     "output_type": "execute_result"
    }
   ],
   "source": [
    "# Corrige dataset a partir da coluna 'tipo_produto'\n",
    "\n",
    "df = df[df['tipo_produto'].str.contains('-') == False]\n",
    "df['tipo_produto'].value_counts()"
   ]
  },
  {
   "cell_type": "code",
   "execution_count": 7,
   "id": "7e778213",
   "metadata": {},
   "outputs": [
    {
     "data": {
      "text/plain": [
       "Tarja vermelha    17765\n",
       "Sem tarja          3292\n",
       "Tarja preta        1378\n",
       "Name: tarja, dtype: int64"
      ]
     },
     "execution_count": 7,
     "metadata": {},
     "output_type": "execute_result"
    }
   ],
   "source": [
    "# Simplifica coluna 'tarja'\n",
    "\n",
    "def simplifica_tarja(tarja):\n",
    "    \n",
    "    if 'erm' in tarja:\n",
    "        return 'Tarja vermelha'\n",
    "    elif 'ret' in tarja:\n",
    "        return 'Tarja preta'\n",
    "    else:\n",
    "        return 'Sem tarja'\n",
    "    \n",
    "df['tarja'] = df['tarja'].apply(simplifica_tarja)\n",
    "df['tarja'].value_counts()"
   ]
  },
  {
   "cell_type": "code",
   "execution_count": 8,
   "id": "e40e088f",
   "metadata": {},
   "outputs": [],
   "source": [
    "# Converte PF e PMC para o tipo float\n",
    "\n",
    "def converte_float(preco):\n",
    "    \n",
    "    if ',' in preco:\n",
    "        preco = preco.replace(',', '.')\n",
    "    \n",
    "    preco = float(preco)\n",
    "    return preco\n",
    "\n",
    "df['pf_18'] = df['pf_18'].apply(converte_float)\n",
    "df['pmc_18'] = df['pmc_18'].apply(converte_float)"
   ]
  },
  {
   "cell_type": "code",
   "execution_count": 9,
   "id": "22f87aef",
   "metadata": {
    "scrolled": true
   },
   "outputs": [
    {
     "data": {
      "text/html": [
       "<div>\n",
       "<style scoped>\n",
       "    .dataframe tbody tr th:only-of-type {\n",
       "        vertical-align: middle;\n",
       "    }\n",
       "\n",
       "    .dataframe tbody tr th {\n",
       "        vertical-align: top;\n",
       "    }\n",
       "\n",
       "    .dataframe thead th {\n",
       "        text-align: right;\n",
       "    }\n",
       "</style>\n",
       "<table border=\"1\" class=\"dataframe\">\n",
       "  <thead>\n",
       "    <tr style=\"text-align: right;\">\n",
       "      <th></th>\n",
       "      <th>tipo_produto</th>\n",
       "      <th>tarja</th>\n",
       "      <th>pf_18</th>\n",
       "      <th>pmc_18</th>\n",
       "    </tr>\n",
       "  </thead>\n",
       "  <tbody>\n",
       "    <tr>\n",
       "      <th>25435</th>\n",
       "      <td>Novo</td>\n",
       "      <td>Tarja vermelha</td>\n",
       "      <td>73.74</td>\n",
       "      <td>101.94</td>\n",
       "    </tr>\n",
       "    <tr>\n",
       "      <th>26591</th>\n",
       "      <td>Genérico</td>\n",
       "      <td>Tarja vermelha</td>\n",
       "      <td>22.69</td>\n",
       "      <td>31.37</td>\n",
       "    </tr>\n",
       "    <tr>\n",
       "      <th>2919</th>\n",
       "      <td>Novo</td>\n",
       "      <td>Tarja preta</td>\n",
       "      <td>22.32</td>\n",
       "      <td>30.86</td>\n",
       "    </tr>\n",
       "    <tr>\n",
       "      <th>23934</th>\n",
       "      <td>Genérico</td>\n",
       "      <td>Tarja vermelha</td>\n",
       "      <td>26.87</td>\n",
       "      <td>37.15</td>\n",
       "    </tr>\n",
       "    <tr>\n",
       "      <th>18410</th>\n",
       "      <td>Similar</td>\n",
       "      <td>Tarja vermelha</td>\n",
       "      <td>95.41</td>\n",
       "      <td>131.90</td>\n",
       "    </tr>\n",
       "  </tbody>\n",
       "</table>\n",
       "</div>"
      ],
      "text/plain": [
       "      tipo_produto           tarja  pf_18  pmc_18\n",
       "25435         Novo  Tarja vermelha  73.74  101.94\n",
       "26591     Genérico  Tarja vermelha  22.69   31.37\n",
       "2919          Novo     Tarja preta  22.32   30.86\n",
       "23934     Genérico  Tarja vermelha  26.87   37.15\n",
       "18410      Similar  Tarja vermelha  95.41  131.90"
      ]
     },
     "execution_count": 9,
     "metadata": {},
     "output_type": "execute_result"
    }
   ],
   "source": [
    "# Visão do dataset consertado\n",
    "\n",
    "df.sample(5)"
   ]
  },
  {
   "cell_type": "code",
   "execution_count": 10,
   "id": "54190fcc",
   "metadata": {},
   "outputs": [
    {
     "data": {
      "text/html": [
       "<div>\n",
       "<style scoped>\n",
       "    .dataframe tbody tr th:only-of-type {\n",
       "        vertical-align: middle;\n",
       "    }\n",
       "\n",
       "    .dataframe tbody tr th {\n",
       "        vertical-align: top;\n",
       "    }\n",
       "\n",
       "    .dataframe thead th {\n",
       "        text-align: right;\n",
       "    }\n",
       "</style>\n",
       "<table border=\"1\" class=\"dataframe\">\n",
       "  <thead>\n",
       "    <tr style=\"text-align: right;\">\n",
       "      <th></th>\n",
       "      <th>pf_18</th>\n",
       "      <th>pmc_18</th>\n",
       "      <th>tipo_produto_Específico</th>\n",
       "      <th>tipo_produto_Fitoterápico</th>\n",
       "      <th>tipo_produto_Genérico</th>\n",
       "      <th>tipo_produto_Novo</th>\n",
       "      <th>tipo_produto_Similar</th>\n",
       "      <th>tarja_Tarja preta</th>\n",
       "      <th>tarja_Tarja vermelha</th>\n",
       "    </tr>\n",
       "  </thead>\n",
       "  <tbody>\n",
       "    <tr>\n",
       "      <th>0</th>\n",
       "      <td>44.00</td>\n",
       "      <td>60.83</td>\n",
       "      <td>0</td>\n",
       "      <td>0</td>\n",
       "      <td>0</td>\n",
       "      <td>0</td>\n",
       "      <td>1</td>\n",
       "      <td>0</td>\n",
       "      <td>1</td>\n",
       "    </tr>\n",
       "    <tr>\n",
       "      <th>1</th>\n",
       "      <td>6.15</td>\n",
       "      <td>8.50</td>\n",
       "      <td>0</td>\n",
       "      <td>0</td>\n",
       "      <td>0</td>\n",
       "      <td>0</td>\n",
       "      <td>1</td>\n",
       "      <td>1</td>\n",
       "      <td>0</td>\n",
       "    </tr>\n",
       "    <tr>\n",
       "      <th>3</th>\n",
       "      <td>60.40</td>\n",
       "      <td>83.50</td>\n",
       "      <td>0</td>\n",
       "      <td>0</td>\n",
       "      <td>0</td>\n",
       "      <td>1</td>\n",
       "      <td>0</td>\n",
       "      <td>0</td>\n",
       "      <td>1</td>\n",
       "    </tr>\n",
       "    <tr>\n",
       "      <th>4</th>\n",
       "      <td>60.40</td>\n",
       "      <td>83.50</td>\n",
       "      <td>0</td>\n",
       "      <td>0</td>\n",
       "      <td>0</td>\n",
       "      <td>1</td>\n",
       "      <td>0</td>\n",
       "      <td>0</td>\n",
       "      <td>1</td>\n",
       "    </tr>\n",
       "    <tr>\n",
       "      <th>5</th>\n",
       "      <td>40.61</td>\n",
       "      <td>56.14</td>\n",
       "      <td>0</td>\n",
       "      <td>0</td>\n",
       "      <td>0</td>\n",
       "      <td>1</td>\n",
       "      <td>0</td>\n",
       "      <td>0</td>\n",
       "      <td>1</td>\n",
       "    </tr>\n",
       "  </tbody>\n",
       "</table>\n",
       "</div>"
      ],
      "text/plain": [
       "   pf_18  pmc_18  tipo_produto_Específico  tipo_produto_Fitoterápico  \\\n",
       "0  44.00   60.83                        0                          0   \n",
       "1   6.15    8.50                        0                          0   \n",
       "3  60.40   83.50                        0                          0   \n",
       "4  60.40   83.50                        0                          0   \n",
       "5  40.61   56.14                        0                          0   \n",
       "\n",
       "   tipo_produto_Genérico  tipo_produto_Novo  tipo_produto_Similar  \\\n",
       "0                      0                  0                     1   \n",
       "1                      0                  0                     1   \n",
       "3                      0                  1                     0   \n",
       "4                      0                  1                     0   \n",
       "5                      0                  1                     0   \n",
       "\n",
       "   tarja_Tarja preta  tarja_Tarja vermelha  \n",
       "0                  0                     1  \n",
       "1                  1                     0  \n",
       "3                  0                     1  \n",
       "4                  0                     1  \n",
       "5                  0                     1  "
      ]
     },
     "execution_count": 10,
     "metadata": {},
     "output_type": "execute_result"
    }
   ],
   "source": [
    "# Cria os dummies para as colunas categóricas tipo_produto e tarja\n",
    "\n",
    "final_df = pd.get_dummies(df, drop_first = True)\n",
    "final_df.head()"
   ]
  },
  {
   "cell_type": "markdown",
   "id": "b8b99e43",
   "metadata": {},
   "source": [
    "### Separando os dados de treino e de teste"
   ]
  },
  {
   "cell_type": "code",
   "execution_count": 26,
   "id": "51e0e9f4",
   "metadata": {},
   "outputs": [
    {
     "name": "stderr",
     "output_type": "stream",
     "text": [
      "C:\\Users\\jose-\\AppData\\Local\\Temp\\ipykernel_8920\\3148247265.py:3: FutureWarning: In a future version of pandas all arguments of DataFrame.drop except for the argument 'labels' will be keyword-only.\n",
      "  X = np.array(final_df.drop([predict], 1))\n"
     ]
    }
   ],
   "source": [
    "predict = 'pmc_18'\n",
    "\n",
    "X = np.array(final_df.drop([predict], 1))\n",
    "y = np.array(final_df[predict])"
   ]
  },
  {
   "cell_type": "code",
   "execution_count": 29,
   "id": "0aaa180f",
   "metadata": {},
   "outputs": [],
   "source": [
    "x_train, x_test, y_train, y_test = train_test_split(X, y, test_size = 0.2, random_state = 37)"
   ]
  },
  {
   "cell_type": "markdown",
   "id": "f3c7adc5",
   "metadata": {},
   "source": [
    "### Ajustando (fitting) o modelo de Regressão Linear ao dataset"
   ]
  },
  {
   "cell_type": "code",
   "execution_count": 31,
   "id": "c5228d66",
   "metadata": {},
   "outputs": [
    {
     "data": {
      "text/plain": [
       "LinearRegression()"
      ]
     },
     "execution_count": 31,
     "metadata": {},
     "output_type": "execute_result"
    }
   ],
   "source": [
    "regressor = linear_model.LinearRegression()\n",
    "regressor.fit(x_train, y_train)"
   ]
  },
  {
   "cell_type": "markdown",
   "id": "fe00b07c",
   "metadata": {},
   "source": [
    "### Executando as predições e as avaliando "
   ]
  },
  {
   "cell_type": "code",
   "execution_count": 35,
   "id": "67bbd831",
   "metadata": {},
   "outputs": [],
   "source": [
    "y_pred = regressor.predict(x_test)"
   ]
  },
  {
   "cell_type": "code",
   "execution_count": 42,
   "id": "889b796d",
   "metadata": {},
   "outputs": [
    {
     "name": "stdout",
     "output_type": "stream",
     "text": [
      "R² Score: 0.9999999999999557\n",
      "Mean Absolute Error: 0.0024965595487898193\n",
      "Mean Squared Error: 8.324417231812215e-06\n"
     ]
    }
   ],
   "source": [
    "print(f'R² Score: {r2_score(y_pred, y_test)}')\n",
    "print(f'Mean Absolute Error: {mean_absolute_error(y_pred, y_test)}')\n",
    "print(f'Mean Squared Error: {mean_squared_error(y_pred, y_test)}')"
   ]
  }
 ],
 "metadata": {
  "kernelspec": {
   "display_name": "Python 3 (ipykernel)",
   "language": "python",
   "name": "python3"
  },
  "language_info": {
   "codemirror_mode": {
    "name": "ipython",
    "version": 3
   },
   "file_extension": ".py",
   "mimetype": "text/x-python",
   "name": "python",
   "nbconvert_exporter": "python",
   "pygments_lexer": "ipython3",
   "version": "3.9.13"
  }
 },
 "nbformat": 4,
 "nbformat_minor": 5
}
