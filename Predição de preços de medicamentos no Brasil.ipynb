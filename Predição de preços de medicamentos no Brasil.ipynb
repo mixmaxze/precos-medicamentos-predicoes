{
 "cells": [
  {
   "cell_type": "markdown",
   "id": "d796f0a5",
   "metadata": {},
   "source": [
    "#### Importando as bibliotecas"
   ]
  },
  {
   "cell_type": "code",
   "execution_count": 1,
   "id": "2a6771ac",
   "metadata": {},
   "outputs": [],
   "source": [
    "import pandas as pd"
   ]
  },
  {
   "cell_type": "markdown",
   "id": "dffbc75e",
   "metadata": {},
   "source": [
    "#### Importando os dados"
   ]
  },
  {
   "cell_type": "code",
   "execution_count": 7,
   "id": "ef5e9287",
   "metadata": {},
   "outputs": [
    {
     "name": "stderr",
     "output_type": "stream",
     "text": [
      "C:\\Users\\jose-\\AppData\\Local\\Temp\\ipykernel_13516\\1792964528.py:1: DtypeWarning: Columns (4) have mixed types. Specify dtype option on import or set low_memory=False.\n",
      "  df = pd.read_csv('./data/TA_PRECO_MEDICAMENTO.CSV', sep = ';', encoding='latin-1', on_bad_lines='skip')\n"
     ]
    }
   ],
   "source": [
    "df = pd.read_csv('./data/TA_PRECO_MEDICAMENTO.CSV', sep = ';', encoding='latin-1', on_bad_lines='skip')"
   ]
  },
  {
   "cell_type": "code",
   "execution_count": 14,
   "id": "c0f77dec",
   "metadata": {
    "scrolled": true
   },
   "outputs": [
    {
     "data": {
      "text/plain": [
       "Index(['substância', 'cnpj', 'laboratório', 'código ggrem', 'registro',\n",
       "       'ean 1', 'ean 2', 'ean 3', 'produto', 'apresentação',\n",
       "       'classe terapêutica', 'tipo de produto (status do produto)',\n",
       "       'regime de preço', 'pf sem impostos', 'pf 0%', 'pf 12%', 'pf 17%',\n",
       "       'pf 17% alc', 'pf 17,5%', 'pf 17,5% alc', 'pf 18%', 'pf 18% alc',\n",
       "       'pf 20%', 'pmc 0%', 'pmc 12%', 'pmc 17%', 'pmc 17% alc', 'pmc 17,5%',\n",
       "       'pmc 17,5% alc', 'pmc 18%', 'pmc 18% alc', 'pmc 20%',\n",
       "       'restrição hospitalar', 'cap', 'confaz 87', 'icms 0%',\n",
       "       'análise recursal',\n",
       "       'lista de concessão de crédito tributário (pis/cofins)',\n",
       "       'comercialização 2022', 'tarja'],\n",
       "      dtype='object')"
      ]
     },
     "execution_count": 14,
     "metadata": {},
     "output_type": "execute_result"
    }
   ],
   "source": [
    "# Colunas do DataFrame\n",
    "\n",
    "df.columns"
   ]
  },
  {
   "cell_type": "code",
   "execution_count": 13,
   "id": "8d60c83e",
   "metadata": {},
   "outputs": [],
   "source": [
    "# Deixa os nomes das colunas em letras minúsculas\n",
    "df.rename(columns = {column:column.lower() for column in df.columns}, inplace = True)"
   ]
  },
  {
   "cell_type": "markdown",
   "id": "1055fca9",
   "metadata": {},
   "source": [
    "### Capturando as colunas importantes\n",
    "<b>Substância</b>: princípio ativo do medicamento.<br>\n",
    "<b>Produto</b>: nome comercial.<br>\n",
    "<b>Apresentação</b>: descrição de como o medicamento é apresentado, quanto a sua \n",
    "forma farmacêutica, dosagem e quantidade.<br>\n",
    "<b>Classe terapêutica</b>: está relacionado com a finalidade e o local de atuação do medicamento.<br>\n",
    "<b>Tipo de produto (status do produto)</b>: Indica qual se a venda do medicamento necessita de recita.<br>\n",
    "<b>Tarja</b>: indica qual se a venda do medicamento necessita de recita, sendo classificado em Tarja preta, Tarja vermelha ou Venda livre.<br>\n",
    "<b>PF 18% alc</b>: preço de fábrica.<br>\n",
    "<b>PMC 18% alc</b>: preço máximo ao consumidor (variável alvo).<br>\n",
    "<br>\n",
    "<b>Obs:</b> Foram escolhidos os PF e PMC com alíquota de 18% ao invés dos outros, pois este é o percentual aplicado na maioria dos estados brasileiros."
   ]
  },
  {
   "cell_type": "code",
   "execution_count": 22,
   "id": "214f8261",
   "metadata": {},
   "outputs": [],
   "source": [
    "df = df[['substância', 'produto', 'apresentação',\n",
    "       'classe terapêutica', 'tipo de produto (status do produto)',\n",
    "       'pf 18% alc','pmc 18% alc', 'tarja']]"
   ]
  }
 ],
 "metadata": {
  "kernelspec": {
   "display_name": "Python 3 (ipykernel)",
   "language": "python",
   "name": "python3"
  },
  "language_info": {
   "codemirror_mode": {
    "name": "ipython",
    "version": 3
   },
   "file_extension": ".py",
   "mimetype": "text/x-python",
   "name": "python",
   "nbconvert_exporter": "python",
   "pygments_lexer": "ipython3",
   "version": "3.9.13"
  }
 },
 "nbformat": 4,
 "nbformat_minor": 5
}
